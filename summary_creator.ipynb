{
 "cells": [
  {
   "cell_type": "code",
   "execution_count": 1,
   "metadata": {},
   "outputs": [],
   "source": [
    "from nltk.corpus import stopwords\n",
    "from nltk.stem import PorterStemmer\n",
    "from nltk.tokenize import word_tokenize, sent_tokenize"
   ]
  },
  {
   "cell_type": "code",
   "execution_count": 8,
   "metadata": {},
   "outputs": [],
   "source": [
    "def create_freq_table(text) -> dict:\n",
    "    stop_words = set(stopwords.words(\"english\"))\n",
    "    words = word_tokenize(text)\n",
    "    ps = PorterStemmer()\n",
    "    \n",
    "    freq_table = {}\n",
    "    for w in words:\n",
    "        word = ps.stem(w)\n",
    "        if word in stop_words:\n",
    "            continue\n",
    "        if word in freq_table:\n",
    "            freq_table[word] += 1\n",
    "        else:\n",
    "            freq_table[word] = 1\n",
    "    \n",
    "    return freq_table"
   ]
  },
  {
   "cell_type": "code",
   "execution_count": 18,
   "metadata": {},
   "outputs": [],
   "source": [
    "def scoring_sentences(sentences, freq_table) -> dict:\n",
    "    sent_value = {}\n",
    "    \n",
    "    for s in sentences:\n",
    "        word_count = len(word_tokenize(s))\n",
    "        for val in freq_table:\n",
    "            if val in s.lower():\n",
    "                if s[:10] in sent_value:\n",
    "                    sent_value[s[:10]] += freq_table[val]\n",
    "                else:\n",
    "                    sent_value[s[:10]] = freq_table[val]\n",
    "        sent_value[s[:10]] = sent_value[s[:10]]\n",
    "    \n",
    "    return sent_value"
   ]
  },
  {
   "cell_type": "code",
   "execution_count": 20,
   "metadata": {},
   "outputs": [],
   "source": [
    "def avg_score(sent_val) -> int:\n",
    "    sum_val = 0\n",
    "    for val in sent_val:\n",
    "        sum_val += sent_val[val]\n",
    "    \n",
    "    \n",
    "    avg_val = sum_val // len(sent_val)\n",
    "    \n",
    "    return avg_val"
   ]
  },
  {
   "cell_type": "code",
   "execution_count": 5,
   "metadata": {},
   "outputs": [],
   "source": [
    "def summary(sent, sent_val, thres):\n",
    "    sent_count = 0\n",
    "    summary = ''\n",
    "    \n",
    "    for s in sent:\n",
    "        if s[:10] in sent_val and sent_val[s[:10]] > (thres):\n",
    "            summary += ' ' + s\n",
    "            sent_count += 1\n",
    "    \n",
    "    return summary"
   ]
  },
  {
   "cell_type": "code",
   "execution_count": 21,
   "metadata": {},
   "outputs": [
    {
     "name": "stdout",
     "output_type": "stream",
     "text": [
      " “This was a pioneering experiment that allowed one to infer the simultaneous position of a particle in two places,” says Elitzur’s colleague Eliahu Cohen of the University of Ottawa in Ontario. The experiment is designed so the probe photon can only show interference if it interacted with the shutter photon in a particular sequence of places and times: namely, if the shutter photon was in both boxes A and C at some time (t1), then at a later time (t2) only in C, and at a still later time (t3) in both B and C. So interference in the probe photon would be a definitive sign the shutter photon made this bizarre, logic-defying sequence of disjointed appearances among the boxes at different times—an idea Elitzur, Cohen and Aharonov proposed as a possibility in 2017 for a single particle spread across three boxes. Through the lens of the TSVF, Elitzur says, this flickering, ever changing existence can be understood as a series of events in which a particle’s presence in one place is “canceled” by its own “counterparticle” in the same location. “The experiment is bound to work,” Wharton says—but he adds it “won’t convince anyone of anything, since the results are predicted by standard quantum mechanics.” In other words, there would be no compelling reason to interpret the outcome in terms of the TSVF rather than one of the many other ways that researchers interpret quantum behavior. And if someone thinks they can formulate a different picture of “what is really going on” in this experiment using standard quantum mechanics, he adds, “Well, let them go ahead!”\n",
      "\n",
      "He is confident that the work heralds “nothing short of a revolution within quantum mechanics.” Now that measurement methods have become precise enough, he says, “you can be sure that notions like retrocausation are going to become part and parcel of quantum reality.”\n"
     ]
    }
   ],
   "source": [
    "# Freq table\n",
    "text = ''\n",
    "\n",
    "with open(\"untitled.txt\", encoding=\"utf8\") as f:\n",
    "    text = f.read()\n",
    "\n",
    "freq_table = create_freq_table(text)\n",
    "\n",
    "sents = sent_tokenize(text)\n",
    "\n",
    "sent_scores = scoring_sentences(sents, freq_table)\n",
    "\n",
    "threshold = avg_score(sent_scores)\n",
    "\n",
    "summary = summary(sents, sent_scores, 1.5 * threshold)\n",
    "\n",
    "print(summary)"
   ]
  },
  {
   "cell_type": "code",
   "execution_count": null,
   "metadata": {},
   "outputs": [],
   "source": []
  }
 ],
 "metadata": {
  "kernelspec": {
   "display_name": "Python 3",
   "language": "python",
   "name": "python3"
  },
  "language_info": {
   "codemirror_mode": {
    "name": "ipython",
    "version": 3
   },
   "file_extension": ".py",
   "mimetype": "text/x-python",
   "name": "python",
   "nbconvert_exporter": "python",
   "pygments_lexer": "ipython3",
   "version": "3.6.8"
  }
 },
 "nbformat": 4,
 "nbformat_minor": 2
}
